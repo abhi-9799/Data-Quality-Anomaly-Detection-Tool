{
 "cells": [
  {
   "cell_type": "markdown",
   "metadata": {
    "id": "k1d7wznB0KGS"
   },
   "source": [
    "## Mode 1:Anomaly Detection"
   ]
  },
  {
   "cell_type": "code",
   "execution_count": 1,
   "metadata": {
    "id": "zcQtJdUIt-8M"
   },
   "outputs": [],
   "source": [
    "import pandas as pd\n",
    "import numpy as np\n",
    "from scipy import stats"
   ]
  },
  {
   "cell_type": "code",
   "execution_count": 2,
   "metadata": {
    "id": "c_SljJMduDXl"
   },
   "outputs": [],
   "source": [
    "def load_data(file_path):\n",
    "    try:\n",
    "        if file_path.endswith(\".csv\"):\n",
    "            df = pd.read_csv(file_path, encoding=\"utf-8\")\n",
    "        elif file_path.endswith((\".xls\", \".xlsx\")):\n",
    "            df = pd.read_excel(file_path)\n",
    "        else:\n",
    "            raise ValueError(\"Unsupported file format. Use CSV or Excel.\")\n",
    "    except UnicodeDecodeError:\n",
    "\n",
    "        df = pd.read_csv(file_path, encoding=\"ISO-8859-1\")\n",
    "    return df"
   ]
  },
  {
   "cell_type": "code",
   "execution_count": 3,
   "metadata": {
    "id": "jQYQYs3YuM2O"
   },
   "outputs": [],
   "source": [
    "def data_profile(df):\n",
    "    profile = pd.DataFrame({\n",
    "        \"Column\": df.columns,\n",
    "        \"DataType\": df.dtypes.astype(str),\n",
    "        \"NonNullCount\": df.notnull().sum(),\n",
    "        \"MissingCount\": df.isnull().sum(),\n",
    "        \"MissingPercent\": round(df.isnull().mean() * 100, 2),\n",
    "        \"UniqueValues\": df.nunique()\n",
    "    })\n",
    "    return profile"
   ]
  },
  {
   "cell_type": "code",
   "execution_count": 4,
   "metadata": {
    "id": "xr-Atx4HuRKf"
   },
   "outputs": [],
   "source": [
    "def numeric_summary(df):\n",
    "    return df.describe().T.assign(skew=df.skew(), kurtosis=df.kurtosis())"
   ]
  },
  {
   "cell_type": "code",
   "execution_count": 5,
   "metadata": {
    "id": "sjKmirMIuYXk"
   },
   "outputs": [],
   "source": [
    "def detect_invalid(df):\n",
    "    invalid_rows = pd.DataFrame()\n",
    "    for col in df.select_dtypes(include=np.number).columns:\n",
    "        invalids = df[df[col] < 0]\n",
    "        if not invalids.empty:\n",
    "            invalid_rows = pd.concat([invalid_rows, invalids])\n",
    "    return invalid_rows if not invalid_rows.empty else pd.DataFrame(columns=df.columns)"
   ]
  },
  {
   "cell_type": "code",
   "execution_count": 6,
   "metadata": {
    "id": "PRsGutyiubNm"
   },
   "outputs": [],
   "source": [
    "def detect_outliers(df):\n",
    "    summary = []\n",
    "    n_rows = len(df)\n",
    "\n",
    "    for col in df.select_dtypes(include=np.number).columns:\n",
    "        series = df[col].dropna()\n",
    "        if series.empty:\n",
    "            continue\n",
    "\n",
    "        z_scores = np.abs(stats.zscore(series))\n",
    "        z_outliers = (z_scores > 3).sum()\n",
    "        if z_outliers > 0:\n",
    "            summary.append({\n",
    "                \"Column\": col,\n",
    "                \"Method\": \"Z-Score\",\n",
    "                \"Outlier Count\": int(z_outliers),\n",
    "                \"Percent of Total\": round((z_outliers / n_rows) * 100, 2)\n",
    "            })\n",
    "\n",
    "        Q1, Q3 = series.quantile([0.25, 0.75])\n",
    "        IQR = Q3 - Q1\n",
    "        iqr_outliers = ((series < Q1 - 1.5*IQR) | (series > Q3 + 1.5*IQR)).sum()\n",
    "        if iqr_outliers > 0:\n",
    "            summary.append({\n",
    "                \"Column\": col,\n",
    "                \"Method\": \"IQR\",\n",
    "                \"Outlier Count\": int(iqr_outliers),\n",
    "                \"Percent of Total\": round((iqr_outliers / n_rows) * 100, 2)\n",
    "            })\n",
    "\n",
    "    return pd.DataFrame(summary)"
   ]
  },
  {
   "cell_type": "code",
   "execution_count": 7,
   "metadata": {
    "id": "XVmaD5VGuhqX"
   },
   "outputs": [],
   "source": [
    "def detect_duplicates(df):\n",
    "    dups = df[df.duplicated()]\n",
    "    return dups if not dups.empty else pd.DataFrame(columns=df.columns)"
   ]
  },
  {
   "cell_type": "code",
   "execution_count": 8,
   "metadata": {},
   "outputs": [],
   "source": [
    "def correlation_analysis(df, threshold=0.9):\n",
    "    numeric_df = df.select_dtypes(include=np.number)\n",
    "    if numeric_df.empty:\n",
    "        return pd.DataFrame(columns=[\"Column 1\", \"Column 2\", \"Correlation\", \"Flagged\"])\n",
    "\n",
    "    corr_matrix = numeric_df.corr()\n",
    "\n",
    "    records = []\n",
    "    for i in range(len(corr_matrix.columns)):\n",
    "        for j in range(i+1, len(corr_matrix.columns)):\n",
    "            col1, col2 = corr_matrix.columns[i], corr_matrix.columns[j]\n",
    "            corr_val = corr_matrix.iloc[i, j]\n",
    "            records.append({\n",
    "                \"Column 1\": col1,\n",
    "                \"Column 2\": col2,\n",
    "                \"Correlation\": round(corr_val, 3),\n",
    "                \"Flagged\": \"Yes\" if abs(corr_val) >= threshold else \"No\"\n",
    "            })\n",
    "\n",
    "    return pd.DataFrame(records)"
   ]
  },
  {
   "cell_type": "code",
   "execution_count": 9,
   "metadata": {},
   "outputs": [],
   "source": [
    "def low_variance_columns(df, threshold=0.01):\n",
    "    summary = []\n",
    "    for col in df.select_dtypes(include=np.number).columns:\n",
    "        variance = df[col].var()\n",
    "        if pd.isna(variance):\n",
    "            continue\n",
    "        unique_ratio = df[col].nunique() / len(df)\n",
    "        summary.append({\n",
    "            \"Column\": col,\n",
    "            \"Variance\": round(variance, 4),\n",
    "            \"Unique Ratio\": round(unique_ratio, 4),\n",
    "            \"Flagged\": \"Yes\" if unique_ratio < threshold else \"No\"\n",
    "        })\n",
    "    return pd.DataFrame(summary)"
   ]
  },
  {
   "cell_type": "code",
   "execution_count": 10,
   "metadata": {},
   "outputs": [],
   "source": [
    "def skewness_analysis(df, threshold=1.0):\n",
    "    summary = []\n",
    "    for col in df.select_dtypes(include=np.number).columns:\n",
    "        skew = df[col].skew(skipna=True)\n",
    "        if pd.isna(skew):\n",
    "            continue\n",
    "        summary.append({\n",
    "            \"Column\": col,\n",
    "            \"Skewness\": round(skew, 3),\n",
    "            \"Flagged\": \"Yes\" if abs(skew) > threshold else \"No\"\n",
    "        })\n",
    "    return pd.DataFrame(summary)"
   ]
  },
  {
   "cell_type": "markdown",
   "metadata": {
    "id": "mVwIallR0dQF"
   },
   "source": [
    "## Mode 2: Cleaning Anomalies"
   ]
  },
  {
   "cell_type": "code",
   "execution_count": 11,
   "metadata": {
    "id": "cyY1t-720CSe"
   },
   "outputs": [],
   "source": [
    "def handle_missing(df, threshold=0.4):\n",
    "    df_clean = df.copy()\n",
    "\n",
    "    missing_fraction = df_clean.isnull().mean()\n",
    "    cols_to_drop = missing_fraction[missing_fraction > threshold].index\n",
    "    df_clean.drop(columns=cols_to_drop, inplace=True)\n",
    "\n",
    "    for col in df_clean.select_dtypes(include=np.number).columns:\n",
    "        df_clean[col].fillna(df_clean[col].median(), inplace=True)\n",
    "\n",
    "    for col in df_clean.select_dtypes(include=[\"object\", \"category\"]).columns:\n",
    "        if not df_clean[col].mode().empty:\n",
    "            df_clean[col].fillna(df_clean[col].mode()[0], inplace=True)\n",
    "        else:\n",
    "            df_clean[col].fillna(\"Unknown\", inplace=True)\n",
    "\n",
    "    return df_clean"
   ]
  },
  {
   "cell_type": "code",
   "execution_count": 12,
   "metadata": {
    "id": "CyT-_eZ91AJ3"
   },
   "outputs": [],
   "source": [
    "def handle_outliers(df):\n",
    "    df_clean = df.copy()\n",
    "    for col in df_clean.select_dtypes(include=np.number).columns:\n",
    "        Q1, Q3 = df_clean[col].quantile([0.25, 0.75])\n",
    "        IQR = Q3 - Q1\n",
    "        lower, upper = Q1 - 1.5*IQR, Q3 + 1.5*IQR\n",
    "        df_clean[col] = np.where(df_clean[col] < lower, lower,\n",
    "                                 np.where(df_clean[col] > upper, upper, df_clean[col]))\n",
    "    return df_clean"
   ]
  },
  {
   "cell_type": "markdown",
   "metadata": {
    "id": "NIKeUhwkCLrO"
   },
   "source": [
    "## Before vs After"
   ]
  },
  {
   "cell_type": "code",
   "execution_count": 13,
   "metadata": {
    "id": "1e1lrvCkCKzu"
   },
   "outputs": [],
   "source": [
    "def cleaning_comparison(df, df_clean):\n",
    "    summary = []\n",
    "\n",
    "    for col in df.select_dtypes(include=np.number).columns:\n",
    "        # Missing values\n",
    "        missing_before = df[col].isna().sum()\n",
    "        missing_after = df_clean[col].isna().sum()\n",
    "\n",
    "        # Outliers before\n",
    "        series = df[col].dropna()\n",
    "        outliers_before = 0\n",
    "        if not series.empty:\n",
    "            z_scores = np.abs(stats.zscore(series))\n",
    "            outliers_before = (z_scores > 3).sum()\n",
    "\n",
    "        # Outliers after\n",
    "        series_clean = df_clean[col].dropna()\n",
    "        outliers_after = 0\n",
    "        if not series_clean.empty:\n",
    "            z_scores_clean = np.abs(stats.zscore(series_clean))\n",
    "            outliers_after = (z_scores_clean > 3).sum()\n",
    "\n",
    "        summary.append({\n",
    "            \"Column\": col,\n",
    "            \"Missing Before\": missing_before,\n",
    "            \"Missing After\": missing_after,\n",
    "            \"Outliers Before\": int(outliers_before),\n",
    "            \"Outliers After\": int(outliers_after)\n",
    "        })\n",
    "\n",
    "    return pd.DataFrame(summary)"
   ]
  },
  {
   "cell_type": "markdown",
   "metadata": {
    "id": "8RoJPcA11Hhd"
   },
   "source": [
    "## Output"
   ]
  },
  {
   "cell_type": "code",
   "execution_count": 14,
   "metadata": {
    "id": "VW4Ceio3uuO_"
   },
   "outputs": [],
   "source": [
    "def generate_report(df, output_file=\"data_quality_report.xlsx\", clean=False):\n",
    "    profile = data_profile(df)\n",
    "    numeric_stats = numeric_summary(df.select_dtypes(include=np.number))\n",
    "    invalid_entries = detect_invalid(df)\n",
    "    outliers = detect_outliers(df)\n",
    "    duplicates = detect_duplicates(df)\n",
    "    corr_analysis = correlation_analysis(df)\n",
    "    low_var = low_variance_columns(df)\n",
    "    skewness = skewness_analysis(df)\n",
    "\n",
    "    with pd.ExcelWriter(output_file) as writer:\n",
    "        profile.to_excel(writer, sheet_name=\"Data Profile\", index=False)\n",
    "        numeric_stats.to_excel(writer, sheet_name=\"Numeric Summary\")\n",
    "        if not invalid_entries.empty:\n",
    "            invalid_entries.to_excel(writer, sheet_name=\"Invalid Entries\", index=False)\n",
    "        if not outliers.empty:\n",
    "            outliers.to_excel(writer, sheet_name=\"Outlier Summary\", index=False)\n",
    "        if not duplicates.empty:\n",
    "            duplicates.to_excel(writer, sheet_name=\"Duplicates\", index=False)\n",
    "        if not corr_analysis.empty:\n",
    "            corr_analysis.to_excel(writer, sheet_name=\"Correlation Analysis\", index=False)\n",
    "        if not low_var.empty:\n",
    "            low_var.to_excel(writer, sheet_name=\"Low Variance Columns\", index=False)\n",
    "        if not skewness.empty:\n",
    "            skewness.to_excel(writer, sheet_name=\"Skewness Analysis\", index=False)\n",
    "\n",
    "    if clean:\n",
    "        df_clean = handle_missing(df)\n",
    "        df_clean = handle_outliers(df_clean)\n",
    "        df_clean.to_csv(\"cleaned_dataset.csv\", index=False)\n",
    "        comparison = cleaning_comparison(df, df_clean)\n",
    "        with pd.ExcelWriter(output_file, mode=\"a\", engine=\"openpyxl\") as writer:\n",
    "            comparison.to_excel(writer, sheet_name=\"Before vs After\", index=False)"
   ]
  },
  {
   "cell_type": "code",
   "execution_count": 15,
   "metadata": {
    "colab": {
     "base_uri": "https://localhost:8080/"
    },
    "id": "YLBX51LSuwYJ",
    "outputId": "6724b55e-bba9-4c6f-8408-3116f3e159fe"
   },
   "outputs": [
    {
     "name": "stdin",
     "output_type": "stream",
     "text": [
      "Run in cleaning mode? (y/n):  y\n"
     ]
    },
    {
     "name": "stderr",
     "output_type": "stream",
     "text": [
      "C:\\Users\\naab2006\\AppData\\Local\\Temp\\1\\ipykernel_12516\\2240141019.py:9: FutureWarning: A value is trying to be set on a copy of a DataFrame or Series through chained assignment using an inplace method.\n",
      "The behavior will change in pandas 3.0. This inplace method will never work because the intermediate object on which we are setting values always behaves as a copy.\n",
      "\n",
      "For example, when doing 'df[col].method(value, inplace=True)', try using 'df.method({col: value}, inplace=True)' or df[col] = df[col].method(value) instead, to perform the operation inplace on the original object.\n",
      "\n",
      "\n",
      "  df_clean[col].fillna(df_clean[col].median(), inplace=True)\n",
      "C:\\Users\\naab2006\\AppData\\Local\\Temp\\1\\ipykernel_12516\\2240141019.py:9: FutureWarning: A value is trying to be set on a copy of a DataFrame or Series through chained assignment using an inplace method.\n",
      "The behavior will change in pandas 3.0. This inplace method will never work because the intermediate object on which we are setting values always behaves as a copy.\n",
      "\n",
      "For example, when doing 'df[col].method(value, inplace=True)', try using 'df.method({col: value}, inplace=True)' or df[col] = df[col].method(value) instead, to perform the operation inplace on the original object.\n",
      "\n",
      "\n",
      "  df_clean[col].fillna(df_clean[col].median(), inplace=True)\n",
      "C:\\Users\\naab2006\\AppData\\Local\\Temp\\1\\ipykernel_12516\\2240141019.py:9: FutureWarning: A value is trying to be set on a copy of a DataFrame or Series through chained assignment using an inplace method.\n",
      "The behavior will change in pandas 3.0. This inplace method will never work because the intermediate object on which we are setting values always behaves as a copy.\n",
      "\n",
      "For example, when doing 'df[col].method(value, inplace=True)', try using 'df.method({col: value}, inplace=True)' or df[col] = df[col].method(value) instead, to perform the operation inplace on the original object.\n",
      "\n",
      "\n",
      "  df_clean[col].fillna(df_clean[col].median(), inplace=True)\n",
      "C:\\Users\\naab2006\\AppData\\Local\\Temp\\1\\ipykernel_12516\\2240141019.py:9: FutureWarning: A value is trying to be set on a copy of a DataFrame or Series through chained assignment using an inplace method.\n",
      "The behavior will change in pandas 3.0. This inplace method will never work because the intermediate object on which we are setting values always behaves as a copy.\n",
      "\n",
      "For example, when doing 'df[col].method(value, inplace=True)', try using 'df.method({col: value}, inplace=True)' or df[col] = df[col].method(value) instead, to perform the operation inplace on the original object.\n",
      "\n",
      "\n",
      "  df_clean[col].fillna(df_clean[col].median(), inplace=True)\n",
      "C:\\Users\\naab2006\\AppData\\Local\\Temp\\1\\ipykernel_12516\\2240141019.py:9: FutureWarning: A value is trying to be set on a copy of a DataFrame or Series through chained assignment using an inplace method.\n",
      "The behavior will change in pandas 3.0. This inplace method will never work because the intermediate object on which we are setting values always behaves as a copy.\n",
      "\n",
      "For example, when doing 'df[col].method(value, inplace=True)', try using 'df.method({col: value}, inplace=True)' or df[col] = df[col].method(value) instead, to perform the operation inplace on the original object.\n",
      "\n",
      "\n",
      "  df_clean[col].fillna(df_clean[col].median(), inplace=True)\n",
      "C:\\Users\\naab2006\\AppData\\Local\\Temp\\1\\ipykernel_12516\\2240141019.py:9: FutureWarning: A value is trying to be set on a copy of a DataFrame or Series through chained assignment using an inplace method.\n",
      "The behavior will change in pandas 3.0. This inplace method will never work because the intermediate object on which we are setting values always behaves as a copy.\n",
      "\n",
      "For example, when doing 'df[col].method(value, inplace=True)', try using 'df.method({col: value}, inplace=True)' or df[col] = df[col].method(value) instead, to perform the operation inplace on the original object.\n",
      "\n",
      "\n",
      "  df_clean[col].fillna(df_clean[col].median(), inplace=True)\n",
      "C:\\Users\\naab2006\\AppData\\Local\\Temp\\1\\ipykernel_12516\\2240141019.py:13: FutureWarning: A value is trying to be set on a copy of a DataFrame or Series through chained assignment using an inplace method.\n",
      "The behavior will change in pandas 3.0. This inplace method will never work because the intermediate object on which we are setting values always behaves as a copy.\n",
      "\n",
      "For example, when doing 'df[col].method(value, inplace=True)', try using 'df.method({col: value}, inplace=True)' or df[col] = df[col].method(value) instead, to perform the operation inplace on the original object.\n",
      "\n",
      "\n",
      "  df_clean[col].fillna(df_clean[col].mode()[0], inplace=True)\n"
     ]
    }
   ],
   "source": [
    "if __name__ == \"__main__\":\n",
    "    file_path = \"Sample - Superstore.csv\"\n",
    "    df = load_data(file_path)\n",
    "\n",
    "    mode = input(\"Run in cleaning mode? (y/n): \").strip().lower()\n",
    "    clean_flag = True if mode == \"y\" else False\n",
    "\n",
    "    generate_report(df, clean=clean_flag)"
   ]
  },
  {
   "cell_type": "code",
   "execution_count": null,
   "metadata": {
    "id": "CHtPsYghvd-6"
   },
   "outputs": [],
   "source": []
  }
 ],
 "metadata": {
  "colab": {
   "provenance": []
  },
  "kernelspec": {
   "display_name": "Python 3 (ipykernel)",
   "language": "python",
   "name": "python3"
  },
  "language_info": {
   "codemirror_mode": {
    "name": "ipython",
    "version": 3
   },
   "file_extension": ".py",
   "mimetype": "text/x-python",
   "name": "python",
   "nbconvert_exporter": "python",
   "pygments_lexer": "ipython3",
   "version": "3.10.11"
  }
 },
 "nbformat": 4,
 "nbformat_minor": 4
}
